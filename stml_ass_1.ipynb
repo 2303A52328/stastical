{
  "nbformat": 4,
  "nbformat_minor": 0,
  "metadata": {
    "colab": {
      "provenance": [],
      "authorship_tag": "ABX9TyOcUtWErdpOKFKYwk35rgXH",
      "include_colab_link": true
    },
    "kernelspec": {
      "name": "python3",
      "display_name": "Python 3"
    },
    "language_info": {
      "name": "python"
    }
  },
  "cells": [
    {
      "cell_type": "markdown",
      "metadata": {
        "id": "view-in-github",
        "colab_type": "text"
      },
      "source": [
        "<a href=\"https://colab.research.google.com/github/2303A52328/stastical/blob/main/stml_ass_1.ipynb\" target=\"_parent\"><img src=\"https://colab.research.google.com/assets/colab-badge.svg\" alt=\"Open In Colab\"/></a>"
      ]
    },
    {
      "cell_type": "code",
      "execution_count": null,
      "metadata": {
        "colab": {
          "base_uri": "https://localhost:8080/",
          "height": 430
        },
        "id": "rW5ltlkwXtq9",
        "outputId": "8a58d7c0-209d-47f2-bad6-a0224803665a"
      },
      "outputs": [
        {
          "output_type": "display_data",
          "data": {
            "text/plain": [
              "<Figure size 640x480 with 1 Axes>"
            ],
            "image/png": "[encoded data removed]"
          },
          "metadata": {}
        }
      ],
      "source": [
        "import matplotlib.pyplot as plt\n",
        "import numpy as np\n",
        "\n",
        "x = np.array([2.3,2.5,3.6,2.8,3.1,2.9,3.2,2.7,2.8,3.0])\n",
        "bins = 5\n",
        "plt.hist(x,bins,color='RED')\n",
        "plt.show()"
      ]
    },
    {
      "cell_type": "code",
      "source": [
        "import numpy as np\n",
        "import pandas as pd\n",
        "import scipy as sc\n",
        "import statistics as stat\n",
        "from scipy.stats import skew\n",
        "from scipy.stats import kurtosis\n",
        "from scipy.stats import iqr\n",
        "dependent_var = np.array([4,5,8,2,4,2,5])\n",
        "independent_var = np.array([5,6,3,8,3,7,8])"
      ],
      "metadata": {
        "id": "AA2kUOktZaBr"
      },
      "execution_count": null,
      "outputs": []
    },
    {
      "cell_type": "markdown",
      "source": [
        "MEAN"
      ],
      "metadata": {
        "id": "mbJoogTkZxpc"
      }
    },
    {
      "cell_type": "code",
      "source": [
        "print(\"Mean value of dependent_var\")\n",
        "print(np.mean(dependent_var))\n",
        "print(\"Mean value of independent_var\" )\n",
        "print(np.mean(independent_var))\n",
        "print(\"Mean value of dependent var+independent_var\" )\n",
        "print(np.mean(dependent_var+independent_var))"
      ],
      "metadata": {
        "colab": {
          "base_uri": "https://localhost:8080/"
        },
        "id": "2GVFxi1qZrjr",
        "outputId": "47e5045b-a624-46a4-945c-8661ee8c5fd8"
      },
      "execution_count": null,
      "outputs": [
        {
          "output_type": "stream",
          "name": "stdout",
          "text": [
            "Mean value of dependent_var\n",
            "4.285714285714286\n",
            "Mean value of independent_var\n",
            "5.714285714285714\n",
            "Mean value of dependent var+independent_var\n",
            "10.0\n"
          ]
        }
      ]
    },
    {
      "cell_type": "markdown",
      "source": [
        "MEDIAN"
      ],
      "metadata": {
        "id": "6QvFFajxZzOL"
      }
    },
    {
      "cell_type": "code",
      "source": [
        "print(\"Median value of dependent_var\")\n",
        "print(np.median(dependent_var))\n",
        "print(\"Median value of independent_var\")\n",
        "print(np.median(independent_var))\n",
        "print(\"Median value of dependent_var+independent_var\")\n",
        "print(np.median(dependent_var+independent_var))"
      ],
      "metadata": {
        "colab": {
          "base_uri": "https://localhost:8080/"
        },
        "id": "5TX3RrP8Z4Go",
        "outputId": "847bf706-39b8-442f-db97-ee4ed6771aa6"
      },
      "execution_count": null,
      "outputs": [
        {
          "output_type": "stream",
          "name": "stdout",
          "text": [
            "Median value of dependent_var\n",
            "4.0\n",
            "Median value of independent_var\n",
            "6.0\n",
            "Median value of dependent_var+independent_var\n",
            "10.0\n"
          ]
        }
      ]
    },
    {
      "cell_type": "markdown",
      "source": [
        "MODE"
      ],
      "metadata": {
        "id": "-6G--yC6aIB-"
      }
    },
    {
      "cell_type": "code",
      "source": [
        "def find_mode(arr):\n",
        " counts = np.bincount(arr)\n",
        " mode = np.argmax(counts)\n",
        " return mode\n",
        "mode_dependent = find_mode(dependent_var)\n",
        "mode_independent = find_mode(independent_var)\n",
        "print(\"Mode for dependent_var:\",mode_dependent)\n",
        "print(\"Mode for independent_var:\",mode_independent)\n",
        "print(\"Mode for dependent_var+independent_var:\",mode_dependent+mode_independent)"
      ],
      "metadata": {
        "colab": {
          "base_uri": "https://localhost:8080/"
        },
        "id": "3htXScCLaJLn",
        "outputId": "5855fbec-36e9-47a8-93fd-f5de13adb131"
      },
      "execution_count": null,
      "outputs": [
        {
          "output_type": "stream",
          "name": "stdout",
          "text": [
            "Mode for dependent_var: 2\n",
            "Mode for independent_var: 3\n",
            "Mode for dependent_var+independent_var: 5\n"
          ]
        }
      ]
    },
    {
      "cell_type": "markdown",
      "source": [
        "VARIANCE"
      ],
      "metadata": {
        "id": "d4IErc2kaObi"
      }
    },
    {
      "cell_type": "code",
      "source": [
        "print(\"Variance of dependent_var:\")\n",
        "print(np.var(dependent_var))\n",
        "print(\"Variance of independent_var:\")\n",
        "print(np.var(independent_var))\n",
        "print(\"Variance of dependent_var+independent_var:\")\n",
        "print(np.var(dependent_var+independent_var))"
      ],
      "metadata": {
        "colab": {
          "base_uri": "https://localhost:8080/"
        },
        "id": "w5pESkBgaQOR",
        "outputId": "2807d3db-e72a-4002-b2b7-2f6d6376e2bb"
      },
      "execution_count": null,
      "outputs": [
        {
          "output_type": "stream",
          "name": "stdout",
          "text": [
            "Variance of dependent_var:\n",
            "3.6326530612244894\n",
            "Variance of independent_var:\n",
            "3.918367346938776\n",
            "Variance of dependent_var+independent_var:\n",
            "3.142857142857143\n"
          ]
        }
      ]
    },
    {
      "cell_type": "markdown",
      "source": [
        "STANDARD DEVIATION"
      ],
      "metadata": {
        "id": "95UKYCBsaYyQ"
      }
    },
    {
      "cell_type": "code",
      "source": [
        "print(\"Standard Deviation of dependent_var:\")\n",
        "print(np.std(dependent_var))\n",
        "print(\"Standard Deviation of independent_var:\")\n",
        "print(np.std(independent_var))\n",
        "print(\"Standard Deviation of dependent_var+independent_var:\")\n",
        "print(np.std(dependent_var+independent_var))"
      ],
      "metadata": {
        "colab": {
          "base_uri": "https://localhost:8080/"
        },
        "id": "uLMVxPKbahxM",
        "outputId": "5104ee54-e6c2-4e55-e298-b17009a9f68c"
      },
      "execution_count": null,
      "outputs": [
        {
          "output_type": "stream",
          "name": "stdout",
          "text": [
            "Standard Deviation of dependent_var:\n",
            "1.9059520091609048\n",
            "Standard Deviation of independent_var:\n",
            "1.979486637221574\n",
            "Standard Deviation of dependent_var+independent_var:\n",
            "1.7728105208558367\n"
          ]
        }
      ]
    },
    {
      "cell_type": "markdown",
      "source": [
        "RANGE"
      ],
      "metadata": {
        "id": "Fojzz0C-aj4A"
      }
    },
    {
      "cell_type": "code",
      "source": [
        "print(\"Range of dependent_var:\")\n",
        "print(np.max(dependent_var)-np.min(dependent_var))\n",
        "print(\"Range of independent_var:\")\n",
        "print(np.max(independent_var)-np.min(independent_var))\n",
        "print(\"Range of dependent_var+independent_var:\")\n",
        "print(np.max(dependent_var+independent_var)-np.\n",
        " min(dependent_var+independent_var))"
      ],
      "metadata": {
        "colab": {
          "base_uri": "https://localhost:8080/"
        },
        "id": "uFvtbH3YantE",
        "outputId": "365b1523-558e-4bef-cbbd-eb2edf02cdbf"
      },
      "execution_count": null,
      "outputs": [
        {
          "output_type": "stream",
          "name": "stdout",
          "text": [
            "Range of dependent_var:\n",
            "6\n",
            "Range of independent_var:\n",
            "5\n",
            "Range of dependent_var+independent_var:\n",
            "6\n"
          ]
        }
      ]
    },
    {
      "cell_type": "markdown",
      "source": [
        "IQR"
      ],
      "metadata": {
        "id": "FLmgxxEYapnV"
      }
    },
    {
      "cell_type": "code",
      "source": [
        "print(\"IQR of dependent_var:\")\n",
        "print(iqr(dependent_var))\n",
        "print(\"IQR of independent_var:\")\n",
        "print(iqr(independent_var))\n",
        "print(\"IQR of dependent_var+independent_var:\")\n",
        "print(iqr(dependent_var+independent_var))"
      ],
      "metadata": {
        "colab": {
          "base_uri": "https://localhost:8080/"
        },
        "id": "CTIvVdflaq9f",
        "outputId": "3d6ea374-4311-4eaf-d57d-8e1f8f19b0f8"
      },
      "execution_count": null,
      "outputs": [
        {
          "output_type": "stream",
          "name": "stdout",
          "text": [
            "IQR of dependent_var:\n",
            "2.0\n",
            "IQR of independent_var:\n",
            "3.5\n",
            "IQR of dependent_var+independent_var:\n",
            "2.0\n"
          ]
        }
      ]
    },
    {
      "cell_type": "markdown",
      "source": [
        "SKEWNESS"
      ],
      "metadata": {
        "id": "_ABWDLIvawfX"
      }
    },
    {
      "cell_type": "code",
      "source": [
        "print(\"Skewness of the dependent_var:\",skew(dependent_var,axis=0,bias=True))\n",
        "print(\"Skewness of the independent_var:\",skew(independent_var,axis=0,bias=True))\n",
        "print(\"Skewness of the dependent_var+independent_var:\",skew(dependent_var+independent_var,axis=0,bias=True))"
      ],
      "metadata": {
        "colab": {
          "base_uri": "https://localhost:8080/"
        },
        "id": "DhEUKllKayQQ",
        "outputId": "8bae3e9f-1921-497c-f1d5-767865262d47"
      },
      "execution_count": null,
      "outputs": [
        {
          "output_type": "stream",
          "name": "stdout",
          "text": [
            "Skewness of the dependent_var: 0.5785710902698393\n",
            "Skewness of the independent_var: -0.26386711521557127\n",
            "Skewness of the dependent_var+independent_var: 0.0\n"
          ]
        }
      ]
    },
    {
      "cell_type": "markdown",
      "source": [
        "KURTOSIS"
      ],
      "metadata": {
        "id": "vseR-va5a-a7"
      }
    },
    {
      "cell_type": "code",
      "source": [
        "print(\"Kurtosis of the dependent_var:\",kurtosis(dependent_var,axis=0,bias=True))\n",
        "print(\"Kurtosis of the independent_var:\",kurtosis(independent_var,axis=0,bias=True))\n",
        "print(\"Kurtosis of the dependent_var+independent_var:\",kurtosis(dependent_var+independent_var,axis=0,bias=True))"
      ],
      "metadata": {
        "colab": {
          "base_uri": "https://localhost:8080/"
        },
        "id": "KAUA05u2a5no",
        "outputId": "ffdea059-60c4-4168-c341-4b5ed29ebaaa"
      },
      "execution_count": null,
      "outputs": [
        {
          "output_type": "stream",
          "name": "stdout",
          "text": [
            "Kurtosis of the dependent_var: -0.34282287589950755\n",
            "Kurtosis of the independent_var: -1.4541015625000002\n",
            "Kurtosis of the dependent_var+independent_var: -0.5991735537190079\n"
          ]
        }
      ]
    },
    {
      "cell_type": "code",
      "source": [
        "d =pd.read_csv(\"//content/archive (1).zip\")\n",
        "print(d)"
      ],
      "metadata": {
        "colab": {
          "base_uri": "https://localhost:8080/"
        },
        "id": "0iqfLbjIbAbf",
        "outputId": "7b1be240-dad9-40ba-c939-2f8bcb1b39c0"
      },
      "execution_count": null,
      "outputs": [
        {
          "output_type": "stream",
          "name": "stdout",
          "text": [
            "       longitude  latitude  housing_median_age  total_rooms  total_bedrooms  \\\n",
            "0        -122.23     37.88                41.0        880.0           129.0   \n",
            "1        -122.22     37.86                21.0       7099.0          1106.0   \n",
            "2        -122.24     37.85                52.0       1467.0           190.0   \n",
            "3        -122.25     37.85                52.0       1274.0           235.0   \n",
            "4        -122.25     37.85                52.0       1627.0           280.0   \n",
            "...          ...       ...                 ...          ...             ...   \n",
            "20635    -121.09     39.48                25.0       1665.0           374.0   \n",
            "20636    -121.21     39.49                18.0        697.0           150.0   \n",
            "20637    -121.22     39.43                17.0       2254.0           485.0   \n",
            "20638    -121.32     39.43                18.0       1860.0           409.0   \n",
            "20639    -121.24     39.37                16.0       2785.0           616.0   \n",
            "\n",
            "       population  households  median_income  median_house_value  \\\n",
            "0           322.0       126.0         8.3252            452600.0   \n",
            "1          2401.0      1138.0         8.3014            358500.0   \n",
            "2           496.0       177.0         7.2574            352100.0   \n",
            "3           558.0       219.0         5.6431            341300.0   \n",
            "4           565.0       259.0         3.8462            342200.0   \n",
            "...           ...         ...            ...                 ...   \n",
            "20635       845.0       330.0         1.5603             78100.0   \n",
            "20636       356.0       114.0         2.5568             77100.0   \n",
            "20637      1007.0       433.0         1.7000             92300.0   \n",
            "20638       741.0       349.0         1.8672             84700.0   \n",
            "20639      1387.0       530.0         2.3886             89400.0   \n",
            "\n",
            "      ocean_proximity  \n",
            "0            NEAR BAY  \n",
            "1            NEAR BAY  \n",
            "2            NEAR BAY  \n",
            "3            NEAR BAY  \n",
            "4            NEAR BAY  \n",
            "...               ...  \n",
            "20635          INLAND  \n",
            "20636          INLAND  \n",
            "20637          INLAND  \n",
            "20638          INLAND  \n",
            "20639          INLAND  \n",
            "\n",
            "[20640 rows x 10 columns]\n"
          ]
        }
      ]
    }
  ]
}